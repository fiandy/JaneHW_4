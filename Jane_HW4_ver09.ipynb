{
 "cells": [
  {
   "cell_type": "markdown",
   "metadata": {
    "colab_type": "text",
    "id": "-JiYzf1hw_dm"
   },
   "source": [
    "# Домашнее задание 4. Работа со своими данными. \n",
    "\n",
    "### Домашнее задание сдается в ЛМС двумя файлами - этот блокнот, который вы дополните, и ваш датасет, с которым вы работаете.\n",
    "### Если файл с данными не приложен или код на нем не работает минус 2 балла.\n",
    "\n",
    "### Задание делается в парах (в которых составлялись гипотезы), файл может быть прислан одним человеком из мини-группы.\n",
    "\n",
    "### Дедлайн 10 июня 23.59 для всех групп.\n",
    "### Ранний дедлайн 7 июня 23.59 + 1 балл к оценке\n",
    "\n",
    "## Дополнительный баллы за выполнение заданий\n",
    "\n",
    "* Дополнительный балл может быть получен только один. \n",
    "* Если у вас есть пропущенные значения или вашу зависимую переменную нужно перевести в категориальные - вам нужно обязательно сделать один из этих пунктов или оба. Если вы при этом не хотите дополнительные баллы, то напишите семинаристу и мы скажет, какие части других пунктов вам можно не делать.\n",
    "* Если у вас нет пропущенных значений и вам нечего конвертировать в категориальную переменную, но вы хотите доп. балл - вы можете сделать задание 7 (оно необязательно должно соотноситься с вашей гипотезой).\n",
    "\n",
    "## Задания\n",
    "0. \n",
    "Выгрузите данные в excel или в гугл таблицу (не корректируйте общую!). Удалите колонки, с которыми не будете работать. Оставьте все общие вопросы, ваши вопросы и, по желанию, некоторые вопросы ваших коллег, если они релевантны вашей гипотезе. Перемеименуйте колонки в короткие имена, с которыми вам будет удобно работать и pandas, и не забудьте сделать для себя codebook с расшифровкой вопросов и шкал. Сохраните ваш файл в .csv. \n",
    "\n",
    "\n",
    "**1.Оформление (1,5 балл)**\n",
    "\n",
    "Файл должен быть оформлен в markdown с заголовками для каждого блока и с выделениями внутри текста и списками при необходимости. \n",
    "\n",
    "В первой ячейке после этой напишите ваши фамилии и номер группы.\n",
    "Ниже напишите гипотезу, с которой вы работаете и короткое обоснование (можете взять из файла, который делали к опросу, если к гипотезе не было комментариев для правок.)\n",
    "Напишите список переменных в вашем датасете по образцу (см. ниже). \n",
    "\n",
    "* **название переменной** - что измеряете, тип (количественная дискретная, категориальная и т.д.), шкала.\n",
    "\n",
    "В конце файла после всех заданий сделайте общий вывод, поддерживается ли ваша гипотеза собранными данными.\n",
    "\n",
    "\n",
    "**2. Загрузка файла и проверка на пропущенные значения (0.5 балла)**\n",
    "\n",
    "Загрузите файл в датафрейм пандас.\n",
    "Проверьте все ваши переменные на наличие пропущенных значений. \n",
    "\n",
    " *2.1. Дополнительный балл на выбор (1 балл)* \n",
    " \n",
    " Если есть пропуски - заполните их. Прокомментируйте выбор стратегии. \n",
    " \n",
    " \n",
    "**3. Исследование зависимой переменной (1 балл)**\n",
    "\n",
    "* Посмотрите дексриптивные статистики для вашей целевой переменной или переменных (центральную тенденцию, меру разброса (если применимо), минимум и максимум). \n",
    "* Постройте уместный график, чтобы оценить ее распределение.\n",
    "* Прокомментируйте.\n",
    "\n",
    " *3.1. Дополнительный балл на выбор (1 балл)* \n",
    " \n",
    " Если ваша целевая непрерывная - сначала перекодируйте ее в катергориальный признак.\n",
    "\n",
    "**4. Исследование независимых переменных (минимум 6 переменных) (3 балла)**\n",
    "\n",
    "* Посмотрите дексриптивные статистики для ваших независимых переменных (центральную тенденцию меру разброса (если применимо), минимум и максимум).  \n",
    "* Постройте уместные графики, чтобы оценить их распределение.\n",
    "* Прокомментируйте.\n",
    "\n",
    "**5. Исследование связи переменных (2 балла)**\n",
    "\n",
    "* Постройте пивотальные таблицы попарно для независимых и зависимой переменной (минимум для трех независимых переменных), как мы делали для Титаника (data.groupby('Survived')['Sex'].value_counts()).\n",
    "* Оцените распределение значений целевой переменной по категориям независимых переменных, напишите вывод, поддерживается ли ваша гипотеза.\n",
    "\n",
    "\n",
    "**6. Исследование независимых переменных (минимум 3 переменные) (2 балла)**\n",
    "\n",
    "* Постройте мультиваритивный график рассеяния для вашей зависимой и трех независимых переменных. Все три независимые переменные должны отличаться от переменных в задании пять.\n",
    "Если мультивариативный график плохо работает для ваших данных (все переменные категориальные c маленьким разбросом и наблюдения накладываются друг на друга, например) - напишите семинаристу, мы предложим вам вариант действий.\n",
    "\n",
    "* Сделайте вывод, поддерживают ли собранные данные вашу гипотезу.\n",
    "\n",
    " *7. Дополнительный балл на выбор (1 балл)* \n",
    "Напишите функцию, которая перекодирует любую порядковую переменную из словесной шкалы в числовую (или наоборот). \n",
    "Это не должна быть функция pandas, а функция, написанная вами, создающая новую переменную по определенным вами правилам (переменная может быть любая из всего датасета).\n",
    "\n"
   ]
  },
  {
   "cell_type": "markdown",
   "metadata": {
    "colab": {},
    "colab_type": "code",
    "id": "9fkfnCglw_dp"
   },
   "source": [
    "Рогова, Беляковская, БСЦ186"
   ]
  },
  {
   "cell_type": "markdown",
   "metadata": {},
   "source": [
    "Гипотеза: \"Выбор абитуриентом специальности в значительной степени зависит от профессии родителей\""
   ]
  },
  {
   "cell_type": "markdown",
   "metadata": {},
   "source": [
    "**sex** - пол (0 - мужчина, 1 - женщина) (тип переменной - количественная; дискретная)\n",
    "\n",
    "**birth_year** - год рождения (тип переменной - количественная; дискретная)\n",
    "\n",
    "**hometown** - город рождение (0 - МСК;СПБ, 1 - другой городо-миллионник6 2 - город с населением < 1 млн, 3 - поселок городского типа, 4 -село/деревня, 5 - родил(а)сь не в России, 6 - другое) (тип переменной - количественная; дискретная)\n",
    "\n",
    "**is_student** - школьник или студент (0 - школьник, 1 - студент, 2 - ни школьник и ни студент) (тип переменной - количественная; дискретная)\n",
    "\n",
    "**attitude_pj** - Oцените по шкале от 1 до 5 ваше отношение к профессии родителей (1 - крайне негативно, 5 - крайне позитивно) (тип переменной - количественная; дискретная)\n",
    "\n",
    "**similar_pj** - Совпадает ли сфера деятельности ваших родителей с вашей специальностью? ( 0 - Да, 1 - Нет) (тип переменной - количественная; дискретная)\n",
    "\n",
    "**orient_pj** - Ориентироваись ли вы на профессию родителей при выборе специальности? (0 - Да, 1 - Частично, 2 - Нет) (тип переменной - количественная; дискретная)\n",
    "\n",
    "**goal_pj** - Поступали ли вы на определённый факультет с целью позднее работать в фирме/предприятии, где заняты ваши родные? (0 - Да, только из-за этого, 1 - Да, одна из причин, 2 - Нет) (тип переменной - количественная; дискретная)\n",
    "\n",
    "**wish_pj** - Хотели ли ваши родители, чтобы вы выбрали специальность схожую с их профессией? (0 - Да, 1 - Нет, 2 - Затрудняюсь ответить) (тип переменной - количественная; дискретная)"
   ]
  },
  {
   "cell_type": "code",
   "execution_count": 31,
   "metadata": {},
   "outputs": [
    {
     "data": {
      "text/plain": [
       "array(['Студент', 'Школьник', 'Ни школьник, ни студент'], dtype=object)"
      ]
     },
     "execution_count": 31,
     "metadata": {},
     "output_type": "execute_result"
    }
   ],
   "source": [
    "data.is_student.unique()"
   ]
  },
  {
   "cell_type": "code",
   "execution_count": 178,
   "metadata": {},
   "outputs": [],
   "source": [
    "# импорт необходимых библиотек\n",
    "import pandas as pd\n",
    "import numpy as np   # библиотека для работы с массивами\n",
    "\n",
    "\n",
    "\n",
    "# наша основная библиотека для визуализаций\n",
    "import matplotlib.pyplot as plt \n",
    "# магическая функция, чтобы графики отображались в блокноте под ячейками\n",
    "%matplotlib inline\n",
    "\n",
    "\n"
   ]
  },
  {
   "cell_type": "code",
   "execution_count": 263,
   "metadata": {
    "scrolled": true
   },
   "outputs": [
    {
     "data": {
      "text/html": [
       "<div>\n",
       "<style scoped>\n",
       "    .dataframe tbody tr th:only-of-type {\n",
       "        vertical-align: middle;\n",
       "    }\n",
       "\n",
       "    .dataframe tbody tr th {\n",
       "        vertical-align: top;\n",
       "    }\n",
       "\n",
       "    .dataframe thead th {\n",
       "        text-align: right;\n",
       "    }\n",
       "</style>\n",
       "<table border=\"1\" class=\"dataframe\">\n",
       "  <thead>\n",
       "    <tr style=\"text-align: right;\">\n",
       "      <th></th>\n",
       "      <th>sex</th>\n",
       "      <th>birth_year</th>\n",
       "      <th>hometown</th>\n",
       "      <th>is_student</th>\n",
       "      <th>is_foreign_st</th>\n",
       "      <th>msc</th>\n",
       "      <th>university</th>\n",
       "      <th>study_level</th>\n",
       "      <th>study_year</th>\n",
       "      <th>study_cost</th>\n",
       "      <th>attitude_pj</th>\n",
       "      <th>similar_pj</th>\n",
       "      <th>orient_pj</th>\n",
       "      <th>goal_pj</th>\n",
       "      <th>wish_pj</th>\n",
       "    </tr>\n",
       "  </thead>\n",
       "  <tbody>\n",
       "    <tr>\n",
       "      <th>0</th>\n",
       "      <td>Мужской</td>\n",
       "      <td>2000</td>\n",
       "      <td>Город федерального значения</td>\n",
       "      <td>Студент</td>\n",
       "      <td>Нет</td>\n",
       "      <td>Москва</td>\n",
       "      <td>ВШЭ</td>\n",
       "      <td>Бакалавриат</td>\n",
       "      <td>Первый</td>\n",
       "      <td>Скидка</td>\n",
       "      <td>3.0</td>\n",
       "      <td>Нет</td>\n",
       "      <td>Нет</td>\n",
       "      <td>Нет</td>\n",
       "      <td>Затрудняюсь ответить</td>\n",
       "    </tr>\n",
       "    <tr>\n",
       "      <th>1</th>\n",
       "      <td>Женский</td>\n",
       "      <td>2000</td>\n",
       "      <td>Посёлок городского типа</td>\n",
       "      <td>Студент</td>\n",
       "      <td>Нет</td>\n",
       "      <td>Московская область</td>\n",
       "      <td>НИУ ВШЭ</td>\n",
       "      <td>Бакалавриат</td>\n",
       "      <td>Первый</td>\n",
       "      <td>Скидка</td>\n",
       "      <td>5.0</td>\n",
       "      <td>Нет</td>\n",
       "      <td>Нет</td>\n",
       "      <td>Нет</td>\n",
       "      <td>Нет</td>\n",
       "    </tr>\n",
       "    <tr>\n",
       "      <th>2</th>\n",
       "      <td>Мужской</td>\n",
       "      <td>1997</td>\n",
       "      <td>Город федерального значения</td>\n",
       "      <td>Студент</td>\n",
       "      <td>Да</td>\n",
       "      <td>Московская область</td>\n",
       "      <td>НИУ ВШЭ</td>\n",
       "      <td>Бакалавриат</td>\n",
       "      <td>Первый</td>\n",
       "      <td>Скидка</td>\n",
       "      <td>3.0</td>\n",
       "      <td>Нет</td>\n",
       "      <td>Нет</td>\n",
       "      <td>Нет</td>\n",
       "      <td>Нет</td>\n",
       "    </tr>\n",
       "    <tr>\n",
       "      <th>3</th>\n",
       "      <td>Мужской</td>\n",
       "      <td>2000</td>\n",
       "      <td>Город федерального значения</td>\n",
       "      <td>Студент</td>\n",
       "      <td>Да</td>\n",
       "      <td>Московская область</td>\n",
       "      <td>РГГУ</td>\n",
       "      <td>Бакалавриат</td>\n",
       "      <td>Второй</td>\n",
       "      <td>Бюджетное место</td>\n",
       "      <td>3.0</td>\n",
       "      <td>Нет</td>\n",
       "      <td>Нет</td>\n",
       "      <td>Нет</td>\n",
       "      <td>Нет</td>\n",
       "    </tr>\n",
       "    <tr>\n",
       "      <th>4</th>\n",
       "      <td>Женский</td>\n",
       "      <td>2001</td>\n",
       "      <td>Город федерального значения</td>\n",
       "      <td>Студент</td>\n",
       "      <td>Нет</td>\n",
       "      <td>Москва</td>\n",
       "      <td>ВШЭ</td>\n",
       "      <td>Бакалавриат</td>\n",
       "      <td>Первый</td>\n",
       "      <td>Скидка</td>\n",
       "      <td>3.0</td>\n",
       "      <td>Да</td>\n",
       "      <td>Частично</td>\n",
       "      <td>Нет</td>\n",
       "      <td>Затрудняюсь ответить</td>\n",
       "    </tr>\n",
       "    <tr>\n",
       "      <th>5</th>\n",
       "      <td>Женский</td>\n",
       "      <td>1999</td>\n",
       "      <td>Город</td>\n",
       "      <td>Студент</td>\n",
       "      <td>Нет</td>\n",
       "      <td>Москва</td>\n",
       "      <td>Высшая школа экономики</td>\n",
       "      <td>Бакалавриат</td>\n",
       "      <td>Первый</td>\n",
       "      <td>Коммерческое место</td>\n",
       "      <td>3.0</td>\n",
       "      <td>Нет</td>\n",
       "      <td>Нет</td>\n",
       "      <td>Нет</td>\n",
       "      <td>Нет</td>\n",
       "    </tr>\n",
       "    <tr>\n",
       "      <th>6</th>\n",
       "      <td>Женский</td>\n",
       "      <td>2000</td>\n",
       "      <td>Город</td>\n",
       "      <td>Студент</td>\n",
       "      <td>Да</td>\n",
       "      <td>Другое</td>\n",
       "      <td>НИУ ВШЭ</td>\n",
       "      <td>Бакалавриат</td>\n",
       "      <td>Первый</td>\n",
       "      <td>Скидка</td>\n",
       "      <td>5.0</td>\n",
       "      <td>Нет</td>\n",
       "      <td>Нет</td>\n",
       "      <td>Нет</td>\n",
       "      <td>Затрудняюсь ответить</td>\n",
       "    </tr>\n",
       "    <tr>\n",
       "      <th>7</th>\n",
       "      <td>Женский</td>\n",
       "      <td>1999</td>\n",
       "      <td>Город</td>\n",
       "      <td>Студент</td>\n",
       "      <td>Да</td>\n",
       "      <td>Московская область</td>\n",
       "      <td>НИУ ВШЭ</td>\n",
       "      <td>Бакалавриат</td>\n",
       "      <td>Второй</td>\n",
       "      <td>Бюджетное место</td>\n",
       "      <td>3.0</td>\n",
       "      <td>Нет</td>\n",
       "      <td>Частично</td>\n",
       "      <td>Нет</td>\n",
       "      <td>Затрудняюсь ответить</td>\n",
       "    </tr>\n",
       "    <tr>\n",
       "      <th>8</th>\n",
       "      <td>Мужской</td>\n",
       "      <td>2000</td>\n",
       "      <td>Город федерального значения</td>\n",
       "      <td>Студент</td>\n",
       "      <td>Нет</td>\n",
       "      <td>Москва</td>\n",
       "      <td>ВШЭ</td>\n",
       "      <td>Бакалавриат</td>\n",
       "      <td>Первый</td>\n",
       "      <td>Коммерческое место со скидкой</td>\n",
       "      <td>3.0</td>\n",
       "      <td>Да</td>\n",
       "      <td>Нет</td>\n",
       "      <td>Нет</td>\n",
       "      <td>Нет</td>\n",
       "    </tr>\n",
       "    <tr>\n",
       "      <th>9</th>\n",
       "      <td>Женский</td>\n",
       "      <td>2000</td>\n",
       "      <td>В городе с населением меньше 1 миллиона</td>\n",
       "      <td>Студент</td>\n",
       "      <td>Да</td>\n",
       "      <td>Московская область</td>\n",
       "      <td>ВШЭ</td>\n",
       "      <td>Бакалавриат</td>\n",
       "      <td>Первый</td>\n",
       "      <td>Коммерческое место без скидки</td>\n",
       "      <td>3.0</td>\n",
       "      <td>Нет</td>\n",
       "      <td>Частично</td>\n",
       "      <td>Нет</td>\n",
       "      <td>Затрудняюсь ответить</td>\n",
       "    </tr>\n",
       "  </tbody>\n",
       "</table>\n",
       "</div>"
      ],
      "text/plain": [
       "       sex birth_year                                 hometown is_student  \\\n",
       "0  Мужской       2000              Город федерального значения    Студент   \n",
       "1  Женский       2000                  Посёлок городского типа    Студент   \n",
       "2  Мужской       1997              Город федерального значения    Студент   \n",
       "3  Мужской       2000              Город федерального значения    Студент   \n",
       "4  Женский       2001              Город федерального значения    Студент   \n",
       "5  Женский       1999                                    Город    Студент   \n",
       "6  Женский       2000                                    Город    Студент   \n",
       "7  Женский       1999                                    Город    Студент   \n",
       "8  Мужской       2000              Город федерального значения    Студент   \n",
       "9  Женский       2000  В городе с населением меньше 1 миллиона    Студент   \n",
       "\n",
       "  is_foreign_st                 msc              university  study_level  \\\n",
       "0           Нет              Москва                     ВШЭ  Бакалавриат   \n",
       "1           Нет  Московская область                 НИУ ВШЭ  Бакалавриат   \n",
       "2            Да  Московская область                 НИУ ВШЭ  Бакалавриат   \n",
       "3            Да  Московская область                    РГГУ  Бакалавриат   \n",
       "4           Нет              Москва                     ВШЭ  Бакалавриат   \n",
       "5           Нет              Москва  Высшая школа экономики  Бакалавриат   \n",
       "6            Да              Другое                 НИУ ВШЭ  Бакалавриат   \n",
       "7            Да  Московская область                 НИУ ВШЭ  Бакалавриат   \n",
       "8           Нет              Москва                    ВШЭ   Бакалавриат   \n",
       "9            Да  Московская область                     ВШЭ  Бакалавриат   \n",
       "\n",
       "  study_year                     study_cost  attitude_pj similar_pj orient_pj  \\\n",
       "0     Первый                         Скидка          3.0        Нет       Нет   \n",
       "1     Первый                         Скидка          5.0        Нет       Нет   \n",
       "2     Первый                         Скидка          3.0        Нет       Нет   \n",
       "3     Второй                Бюджетное место          3.0        Нет       Нет   \n",
       "4     Первый                         Скидка          3.0         Да  Частично   \n",
       "5     Первый             Коммерческое место          3.0        Нет       Нет   \n",
       "6     Первый                         Скидка          5.0        Нет       Нет   \n",
       "7     Второй                Бюджетное место          3.0        Нет  Частично   \n",
       "8     Первый  Коммерческое место со скидкой          3.0         Да       Нет   \n",
       "9     Первый  Коммерческое место без скидки          3.0        Нет  Частично   \n",
       "\n",
       "  goal_pj               wish_pj  \n",
       "0     Нет  Затрудняюсь ответить  \n",
       "1     Нет                   Нет  \n",
       "2     Нет                   Нет  \n",
       "3     Нет                   Нет  \n",
       "4     Нет  Затрудняюсь ответить  \n",
       "5     Нет                   Нет  \n",
       "6     Нет  Затрудняюсь ответить  \n",
       "7     Нет  Затрудняюсь ответить  \n",
       "8     Нет                   Нет  \n",
       "9     Нет  Затрудняюсь ответить  "
      ]
     },
     "execution_count": 263,
     "metadata": {},
     "output_type": "execute_result"
    }
   ],
   "source": [
    "# импорт собранных нами данных из файла формата csv\n",
    "data = pd.read_csv('students.csv', delimiter=';') \n",
    "\n",
    "# смотрим на первые значения\n",
    "data.head(10)\n"
   ]
  },
  {
   "cell_type": "code",
   "execution_count": 273,
   "metadata": {},
   "outputs": [
    {
     "name": "stdout",
     "output_type": "stream",
     "text": [
      "<class 'pandas.core.frame.DataFrame'>\n",
      "Int64Index: 406 entries, 0 to 429\n",
      "Data columns (total 9 columns):\n",
      "sex            406 non-null object\n",
      "birth_year     406 non-null int64\n",
      "hometown       406 non-null object\n",
      "is_student     406 non-null object\n",
      "attitude_pj    406 non-null float64\n",
      "similar_pj     406 non-null object\n",
      "orient_pj      406 non-null object\n",
      "goal_pj        406 non-null object\n",
      "wish_pj        406 non-null object\n",
      "dtypes: float64(1), int64(1), object(7)\n",
      "memory usage: 31.7+ KB\n"
     ]
    }
   ],
   "source": [
    "data.info()"
   ]
  },
  {
   "cell_type": "code",
   "execution_count": null,
   "metadata": {},
   "outputs": [],
   "source": [
    "# явно есть пустые значения и нужно определить с типами данных\n",
    "\n"
   ]
  },
  {
   "cell_type": "code",
   "execution_count": 272,
   "metadata": {},
   "outputs": [
    {
     "data": {
      "text/html": [
       "<div>\n",
       "<style scoped>\n",
       "    .dataframe tbody tr th:only-of-type {\n",
       "        vertical-align: middle;\n",
       "    }\n",
       "\n",
       "    .dataframe tbody tr th {\n",
       "        vertical-align: top;\n",
       "    }\n",
       "\n",
       "    .dataframe thead th {\n",
       "        text-align: right;\n",
       "    }\n",
       "</style>\n",
       "<table border=\"1\" class=\"dataframe\">\n",
       "  <thead>\n",
       "    <tr style=\"text-align: right;\">\n",
       "      <th></th>\n",
       "      <th>sex</th>\n",
       "      <th>birth_year</th>\n",
       "      <th>hometown</th>\n",
       "      <th>is_student</th>\n",
       "      <th>attitude_pj</th>\n",
       "      <th>similar_pj</th>\n",
       "      <th>orient_pj</th>\n",
       "      <th>goal_pj</th>\n",
       "      <th>wish_pj</th>\n",
       "    </tr>\n",
       "  </thead>\n",
       "  <tbody>\n",
       "    <tr>\n",
       "      <th>0</th>\n",
       "      <td>Мужской</td>\n",
       "      <td>2000</td>\n",
       "      <td>Город федерального значения</td>\n",
       "      <td>Студент</td>\n",
       "      <td>3.0</td>\n",
       "      <td>Нет</td>\n",
       "      <td>Нет</td>\n",
       "      <td>Нет</td>\n",
       "      <td>Затрудняюсь ответить</td>\n",
       "    </tr>\n",
       "    <tr>\n",
       "      <th>1</th>\n",
       "      <td>Женский</td>\n",
       "      <td>2000</td>\n",
       "      <td>Посёлок городского типа</td>\n",
       "      <td>Студент</td>\n",
       "      <td>5.0</td>\n",
       "      <td>Нет</td>\n",
       "      <td>Нет</td>\n",
       "      <td>Нет</td>\n",
       "      <td>Нет</td>\n",
       "    </tr>\n",
       "    <tr>\n",
       "      <th>2</th>\n",
       "      <td>Мужской</td>\n",
       "      <td>1997</td>\n",
       "      <td>Город федерального значения</td>\n",
       "      <td>Студент</td>\n",
       "      <td>3.0</td>\n",
       "      <td>Нет</td>\n",
       "      <td>Нет</td>\n",
       "      <td>Нет</td>\n",
       "      <td>Нет</td>\n",
       "    </tr>\n",
       "    <tr>\n",
       "      <th>3</th>\n",
       "      <td>Мужской</td>\n",
       "      <td>2000</td>\n",
       "      <td>Город федерального значения</td>\n",
       "      <td>Студент</td>\n",
       "      <td>3.0</td>\n",
       "      <td>Нет</td>\n",
       "      <td>Нет</td>\n",
       "      <td>Нет</td>\n",
       "      <td>Нет</td>\n",
       "    </tr>\n",
       "    <tr>\n",
       "      <th>4</th>\n",
       "      <td>Женский</td>\n",
       "      <td>2001</td>\n",
       "      <td>Город федерального значения</td>\n",
       "      <td>Студент</td>\n",
       "      <td>3.0</td>\n",
       "      <td>Да</td>\n",
       "      <td>Частично</td>\n",
       "      <td>Нет</td>\n",
       "      <td>Затрудняюсь ответить</td>\n",
       "    </tr>\n",
       "    <tr>\n",
       "      <th>5</th>\n",
       "      <td>Женский</td>\n",
       "      <td>1999</td>\n",
       "      <td>Город</td>\n",
       "      <td>Студент</td>\n",
       "      <td>3.0</td>\n",
       "      <td>Нет</td>\n",
       "      <td>Нет</td>\n",
       "      <td>Нет</td>\n",
       "      <td>Нет</td>\n",
       "    </tr>\n",
       "    <tr>\n",
       "      <th>6</th>\n",
       "      <td>Женский</td>\n",
       "      <td>2000</td>\n",
       "      <td>Город</td>\n",
       "      <td>Студент</td>\n",
       "      <td>5.0</td>\n",
       "      <td>Нет</td>\n",
       "      <td>Нет</td>\n",
       "      <td>Нет</td>\n",
       "      <td>Затрудняюсь ответить</td>\n",
       "    </tr>\n",
       "    <tr>\n",
       "      <th>7</th>\n",
       "      <td>Женский</td>\n",
       "      <td>1999</td>\n",
       "      <td>Город</td>\n",
       "      <td>Студент</td>\n",
       "      <td>3.0</td>\n",
       "      <td>Нет</td>\n",
       "      <td>Частично</td>\n",
       "      <td>Нет</td>\n",
       "      <td>Затрудняюсь ответить</td>\n",
       "    </tr>\n",
       "    <tr>\n",
       "      <th>8</th>\n",
       "      <td>Мужской</td>\n",
       "      <td>2000</td>\n",
       "      <td>Город федерального значения</td>\n",
       "      <td>Студент</td>\n",
       "      <td>3.0</td>\n",
       "      <td>Да</td>\n",
       "      <td>Нет</td>\n",
       "      <td>Нет</td>\n",
       "      <td>Нет</td>\n",
       "    </tr>\n",
       "    <tr>\n",
       "      <th>9</th>\n",
       "      <td>Женский</td>\n",
       "      <td>2000</td>\n",
       "      <td>В городе с населением меньше 1 миллиона</td>\n",
       "      <td>Студент</td>\n",
       "      <td>3.0</td>\n",
       "      <td>Нет</td>\n",
       "      <td>Частично</td>\n",
       "      <td>Нет</td>\n",
       "      <td>Затрудняюсь ответить</td>\n",
       "    </tr>\n",
       "  </tbody>\n",
       "</table>\n",
       "</div>"
      ],
      "text/plain": [
       "       sex  birth_year                                 hometown is_student  \\\n",
       "0  Мужской        2000              Город федерального значения    Студент   \n",
       "1  Женский        2000                  Посёлок городского типа    Студент   \n",
       "2  Мужской        1997              Город федерального значения    Студент   \n",
       "3  Мужской        2000              Город федерального значения    Студент   \n",
       "4  Женский        2001              Город федерального значения    Студент   \n",
       "5  Женский        1999                                    Город    Студент   \n",
       "6  Женский        2000                                    Город    Студент   \n",
       "7  Женский        1999                                    Город    Студент   \n",
       "8  Мужской        2000              Город федерального значения    Студент   \n",
       "9  Женский        2000  В городе с населением меньше 1 миллиона    Студент   \n",
       "\n",
       "   attitude_pj similar_pj orient_pj goal_pj               wish_pj  \n",
       "0          3.0        Нет       Нет     Нет  Затрудняюсь ответить  \n",
       "1          5.0        Нет       Нет     Нет                   Нет  \n",
       "2          3.0        Нет       Нет     Нет                   Нет  \n",
       "3          3.0        Нет       Нет     Нет                   Нет  \n",
       "4          3.0         Да  Частично     Нет  Затрудняюсь ответить  \n",
       "5          3.0        Нет       Нет     Нет                   Нет  \n",
       "6          5.0        Нет       Нет     Нет  Затрудняюсь ответить  \n",
       "7          3.0        Нет  Частично     Нет  Затрудняюсь ответить  \n",
       "8          3.0         Да       Нет     Нет                   Нет  \n",
       "9          3.0        Нет  Частично     Нет  Затрудняюсь ответить  "
      ]
     },
     "execution_count": 272,
     "metadata": {},
     "output_type": "execute_result"
    }
   ],
   "source": [
    "# Удаляем лишние столбцы:\n",
    "\n",
    "data.drop('study_year', axis = 1, inplace=True)\n",
    "data.drop('study_level', axis = 1, inplace=True)\n",
    "data.drop('university', axis = 1, inplace=True)\n",
    "data.drop('is_foreign_st', axis = 1, inplace=True)\n",
    "data.drop('msc', axis = 1, inplace=True)\n",
    "data.drop('study_cost', axis = 1, inplace=True)\n",
    "\n",
    "# смотрим на первые значения\n",
    "data.head(10)"
   ]
  },
  {
   "cell_type": "code",
   "execution_count": 40,
   "metadata": {},
   "outputs": [
    {
     "data": {
      "text/plain": [
       "array(['Студент', 'Школьник', 'Ни школьник, ни студент'], dtype=object)"
      ]
     },
     "execution_count": 40,
     "metadata": {},
     "output_type": "execute_result"
    }
   ],
   "source": [
    "# мы знаем заведомо, что в данных есть строки мешающие нам\n",
    "# это категория опрошенных - 'Ни школьник, ни студент' \n",
    "\n",
    "data.is_student.unique()"
   ]
  },
  {
   "cell_type": "code",
   "execution_count": 270,
   "metadata": {},
   "outputs": [],
   "source": [
    "# удаляем все строчки с значением is_student == 'Ни школьник, ни студент'\n",
    "# что бы не мешали анализу выборке\n",
    "\n",
    "data.drop(data[data.is_student == 'Ни школьник, ни студент'].index, inplace=True)"
   ]
  },
  {
   "cell_type": "code",
   "execution_count": 181,
   "metadata": {},
   "outputs": [
    {
     "data": {
      "text/plain": [
       "array(['Город федерального значения', 'Посёлок городского типа', 'Город',\n",
       "       'В городе с населением меньше 1 миллиона',\n",
       "       'Москва/Санкт-Петербург', 'Родился/родилась не в России',\n",
       "       'Другой город-миллионник', 'Ковров', 'Село, деревня',\n",
       "       'Город Белгород ', 'Улан удэ ', 'село ебалово', 'Набережные Челны',\n",
       "       'Город с населением менее 10 тыс', 'Краснодар(!)', 'Ташкент'],\n",
       "      dtype=object)"
      ]
     },
     "execution_count": 181,
     "metadata": {},
     "output_type": "execute_result"
    }
   ],
   "source": [
    "# преобразуем наши данные\n",
    "# воспользуемся разными способами\n",
    "\n",
    "# смотрим на значения поля hometown\n",
    "\n",
    "data.hometown.unique()"
   ]
  },
  {
   "cell_type": "code",
   "execution_count": 182,
   "metadata": {},
   "outputs": [
    {
     "data": {
      "text/html": [
       "<div>\n",
       "<style scoped>\n",
       "    .dataframe tbody tr th:only-of-type {\n",
       "        vertical-align: middle;\n",
       "    }\n",
       "\n",
       "    .dataframe tbody tr th {\n",
       "        vertical-align: top;\n",
       "    }\n",
       "\n",
       "    .dataframe thead th {\n",
       "        text-align: right;\n",
       "    }\n",
       "</style>\n",
       "<table border=\"1\" class=\"dataframe\">\n",
       "  <thead>\n",
       "    <tr style=\"text-align: right;\">\n",
       "      <th></th>\n",
       "      <th>sex</th>\n",
       "      <th>birth_year</th>\n",
       "      <th>hometown</th>\n",
       "      <th>is_student</th>\n",
       "      <th>attitude_pj</th>\n",
       "      <th>similar_pj</th>\n",
       "      <th>orient_pj</th>\n",
       "      <th>goal_pj</th>\n",
       "      <th>wish_pj</th>\n",
       "    </tr>\n",
       "  </thead>\n",
       "  <tbody>\n",
       "    <tr>\n",
       "      <th>92</th>\n",
       "      <td>Женский</td>\n",
       "      <td>2000</td>\n",
       "      <td>Улан удэ</td>\n",
       "      <td>Студент</td>\n",
       "      <td>4.0</td>\n",
       "      <td>Нет</td>\n",
       "      <td>Нет</td>\n",
       "      <td>Да, одна из причин</td>\n",
       "      <td>Нет</td>\n",
       "    </tr>\n",
       "  </tbody>\n",
       "</table>\n",
       "</div>"
      ],
      "text/plain": [
       "        sex birth_year   hometown is_student  attitude_pj similar_pj  \\\n",
       "92  Женский       2000  Улан удэ     Студент          4.0        Нет   \n",
       "\n",
       "   orient_pj             goal_pj wish_pj  \n",
       "92       Нет  Да, одна из причин     Нет  "
      ]
     },
     "execution_count": 182,
     "metadata": {},
     "output_type": "execute_result"
    }
   ],
   "source": [
    "# значений не много - можем посмотреть, что скрывается под не правильными\n",
    "\n",
    "data[data.hometown=='Улан удэ ']"
   ]
  },
  {
   "cell_type": "code",
   "execution_count": null,
   "metadata": {},
   "outputs": [],
   "source": [
    "# явно тут много данных которые нужно привести к ожидаемым\n",
    "# в опросе \n",
    "0 - МСК;СПБ\n",
    "1 - другой городо-миллионник\n",
    "2 - город с населением < 1 млн\n",
    "3 - поселок городского типа\n",
    "4 - село/деревня\n",
    "5 - родил(а)сь не в России \n",
    "6 - другое\n",
    "\n",
    "\n",
    "получается, что нужно сопоставить следующее:\n",
    "    \n",
    "Москва/Санкт-Петербург      = 0 - МСК;СПБ\n",
    "Посёлок городского типа     = 3 - поселок городского типа\n",
    "В городе с населением меньше 1 миллиона  = 2 - город с населением < 1 млн\n",
    "Другой город-миллионник     = 1 - другой городо-миллионник\n",
    "Город федерального значения = 2 - город с населением < 1 млн\n",
    "Город         = 2 - город с населением < 1 млн\n",
    "Белгород      = 2 - город с населением < 1 млн\n",
    "Краснодар(!)  = 2 - город с населением < 1 млн\n",
    "Ковров        = 2 - город с населением < 1 млн\n",
    "Родился/родилась не в России = 5 - родил(а)сь не в России \n",
    "Ташкент       = 5 - родил(а)сь не в России\n",
    "Улан удэ      = 2 - город с населением < 1 млн\n",
    "Набережные Челны = 2 - город с населением < 1 млн\n",
    "Село, деревня = 4 - село/деревня\n",
    "село ебалово  = 5 - другое\n",
    "Город с населением менее 10 тыс = 2 - город с населением < 1 млн\n"
   ]
  },
  {
   "cell_type": "code",
   "execution_count": 204,
   "metadata": {},
   "outputs": [],
   "source": [
    "#для этого создадим словарь:\n",
    "\n",
    "ht = {'Москва/Санкт-Петербург': 0, \n",
    "     'Посёлок городского типа': 3,\n",
    "     'Улан удэ ': 2, \n",
    "     'Город федерального значения': 2 ,\n",
    "     'Село, деревня': 4,\n",
    "     'Ташкент': 5,\n",
    "     'село ебалово': 6,\n",
    "     'В городе с населением меньше 1 миллиона': 2,\n",
    "     'Другой город-миллионник': 1,\n",
    "     'Город федерального значения': 2,\n",
    "     'Город': 2,\n",
    "     'Город Белгород ': 2,\n",
    "     'Краснодар(!)': 2,\n",
    "     'Ковров': 2, \n",
    "     'Москва ':'',\n",
    "     'Родился/родилась не в России': 5,\n",
    "     'Город с населением менее 10 тыс': 2,\n",
    "     'Набережные Челны': 2,\n",
    "}\n"
   ]
  },
  {
   "cell_type": "code",
   "execution_count": 205,
   "metadata": {},
   "outputs": [],
   "source": [
    "data['hometown']=data['hometown'].map(ht)"
   ]
  },
  {
   "cell_type": "code",
   "execution_count": 228,
   "metadata": {},
   "outputs": [
    {
     "data": {
      "text/plain": [
       "<matplotlib.axes._subplots.AxesSubplot at 0x7f9cc16ed748>"
      ]
     },
     "execution_count": 228,
     "metadata": {},
     "output_type": "execute_result"
    },
    {
     "data": {
      "image/png": "[encoded data removed]",
      "text/plain": [
       "<Figure size 432x288 with 1 Axes>"
      ]
     },
     "metadata": {
      "needs_background": "light"
     },
     "output_type": "display_data"
    }
   ],
   "source": [
    "# преобразуем тип данных к количественному из категориального\n",
    "data['hometown']=data['hometown'].astype('int64')\n",
    "\n"
   ]
  },
  {
   "cell_type": "code",
   "execution_count": 143,
   "metadata": {},
   "outputs": [
    {
     "data": {
      "text/plain": [
       "<matplotlib.axes._subplots.AxesSubplot at 0x7f9c8359a240>"
      ]
     },
     "execution_count": 143,
     "metadata": {},
     "output_type": "execute_result"
    },
    {
     "data": {
      "image/png": "[encoded data removed]",
      "text/plain": [
       "<Figure size 432x288 with 1 Axes>"
      ]
     },
     "metadata": {
      "needs_background": "light"
     },
     "output_type": "display_data"
    }
   ],
   "source": [
    "data['birth_year'].hist()"
   ]
  },
  {
   "cell_type": "code",
   "execution_count": 262,
   "metadata": {},
   "outputs": [
    {
     "data": {
      "text/plain": [
       "array([2000, 1997, 2001, 1999, 2002, 1930, 1996, 2004, 2003, 1994, 1995,\n",
       "       1988, 1991])"
      ]
     },
     "execution_count": 262,
     "metadata": {},
     "output_type": "execute_result"
    }
   ],
   "source": [
    "# посмотрим на данные года рождения - \n",
    "#много не правильных данных часть можно заменить на разумные \n",
    "#- часть придется усреднить\n",
    "data.birth_year.unique()"
   ]
  },
  {
   "cell_type": "code",
   "execution_count": 265,
   "metadata": {},
   "outputs": [],
   "source": [
    "by = {#'Москва': '', \n",
    "     #'Юра пидарас':'',\n",
    "     #'Улан-Удэ':'', \n",
    "     #'200':'',\n",
    "     '1930':'1930',\n",
    "     '1999':'1999',\n",
    "     '2001':'2001',\n",
    "     '2002':'2002',\n",
    "     '2003':'2003',\n",
    "     '2004':'2004',\n",
    "     '19999':'1999',\n",
    "     '1996':'1996',\n",
    "     '15.08.1996':'1996',\n",
    "     '16.12.1999':'1999', \n",
    "     #'Москва ':'',\n",
    "     '1994':'1994',\n",
    "     '97':'1997',\n",
    "     '99':'1999',\n",
    "     '1991':'1991',\n",
    "     '1995':'1995',\n",
    "     '2000':'2000',\n",
    "     '1997':'1997',\n",
    "     '2001':'2001',\n",
    "     '1988':'1988',\n",
    "     #'Ртищево':'',\n",
    "     '01.02.2001':'2001',\n",
    "     '02.06.2002':'2002',\n",
    "    '02.09.1996':'1996'}\n",
    "\n",
    "data['birth_year']=data['birth_year'].map(by)\n",
    "\n",
    "\n",
    "\n"
   ]
  },
  {
   "cell_type": "code",
   "execution_count": 266,
   "metadata": {},
   "outputs": [],
   "source": [
    "# преобразуем к float\n",
    "data['birth_year'] = data['birth_year'].astype('float')"
   ]
  },
  {
   "cell_type": "code",
   "execution_count": 267,
   "metadata": {},
   "outputs": [],
   "source": [
    "# заменяем пустые значения средним\n",
    "\n",
    "data['birth_year'] = np.where (data ['birth_year'].isnull(), data['birth_year'].mean(), data ['birth_year'])"
   ]
  },
  {
   "cell_type": "code",
   "execution_count": 268,
   "metadata": {},
   "outputs": [
    {
     "data": {
      "text/plain": [
       "array([2000, 1997, 2001, 1999, 2002, 1930, 1996, 2004, 2003, 1994, 1995,\n",
       "       1988, 1991])"
      ]
     },
     "execution_count": 268,
     "metadata": {},
     "output_type": "execute_result"
    }
   ],
   "source": [
    "# преобразуем к дискретным\n",
    "\n",
    "data['birth_year'] = data['birth_year'].astype('int64')\n",
    "# выводим результат\n",
    "data.birth_year.unique()\n",
    "\n"
   ]
  },
  {
   "cell_type": "code",
   "execution_count": 269,
   "metadata": {},
   "outputs": [
    {
     "name": "stdout",
     "output_type": "stream",
     "text": [
      "<class 'pandas.core.frame.DataFrame'>\n",
      "RangeIndex: 430 entries, 0 to 429\n",
      "Data columns (total 15 columns):\n",
      "sex              430 non-null object\n",
      "birth_year       430 non-null int64\n",
      "hometown         430 non-null object\n",
      "is_student       430 non-null object\n",
      "is_foreign_st    303 non-null object\n",
      "msc              303 non-null object\n",
      "university       303 non-null object\n",
      "study_level      303 non-null object\n",
      "study_year       303 non-null object\n",
      "study_cost       303 non-null object\n",
      "attitude_pj      406 non-null float64\n",
      "similar_pj       406 non-null object\n",
      "orient_pj        406 non-null object\n",
      "goal_pj          406 non-null object\n",
      "wish_pj          406 non-null object\n",
      "dtypes: float64(1), int64(1), object(13)\n",
      "memory usage: 50.5+ KB\n"
     ]
    }
   ],
   "source": [
    "#  посмотрим на значения полей sex\n",
    "data.sex.unique()\n",
    "\n",
    "data.info()"
   ]
  },
  {
   "cell_type": "code",
   "execution_count": 274,
   "metadata": {},
   "outputs": [
    {
     "data": {
      "text/plain": [
       "array([1, 0])"
      ]
     },
     "execution_count": 274,
     "metadata": {},
     "output_type": "execute_result"
    }
   ],
   "source": [
    "# также создадим словарь\n",
    "\n",
    "s = {'Женский':'0', 'Мужской':'1'}\n",
    "data['sex']=data['sex'].map(s)\n",
    "data['sex'] = data['sex'].astype('int64')\n",
    "data.sex.unique()"
   ]
  },
  {
   "cell_type": "code",
   "execution_count": 275,
   "metadata": {},
   "outputs": [
    {
     "data": {
      "text/plain": [
       "array(['Нет', 'Да, одна из причин', 'Да, только из-за этого'],\n",
       "      dtype=object)"
      ]
     },
     "execution_count": 275,
     "metadata": {},
     "output_type": "execute_result"
    }
   ],
   "source": [
    "# смотрим на значения поля goal_pj\n",
    "data.goal_pj.unique()\n",
    "\n",
    "# все значения допустимые и соответствуют количественным\n",
    "# 0 - Да, только из-за этого, 1 - Да, одна из причин, 2 - Нет"
   ]
  },
  {
   "cell_type": "code",
   "execution_count": 276,
   "metadata": {},
   "outputs": [],
   "source": [
    "# создадим функцию для преобразования \n",
    "# символьного значения поля goal_pj в количественное\n",
    "def f_goal (x):\n",
    "    # 0 - Да, только из-за этого, 1 - Да, одна из причин, 2 - Нет\n",
    "    if (x == 'Да, только из-за этого'):\n",
    "        return 0\n",
    "    elif (x == 'Да, одна из причин'):\n",
    "        return 1\n",
    "    elif (x == 'Нет'):\n",
    "        return 2\n",
    "    else:\n",
    "        return -1\n",
    "\n",
    "    # проверка работы функции\n",
    "f_goal ('Нет')\n",
    "\n",
    "# применяем нашу функци к полю goal_pj\n",
    "data['goal_pj'] = data.goal_pj.apply(f_goal)"
   ]
  },
  {
   "cell_type": "code",
   "execution_count": 277,
   "metadata": {},
   "outputs": [
    {
     "data": {
      "text/plain": [
       "0    2\n",
       "1    2\n",
       "2    2\n",
       "3    2\n",
       "4    2\n",
       "Name: goal_pj, dtype: int64"
      ]
     },
     "execution_count": 277,
     "metadata": {},
     "output_type": "execute_result"
    }
   ],
   "source": [
    "data.goal_pj.head()"
   ]
  },
  {
   "cell_type": "code",
   "execution_count": 278,
   "metadata": {},
   "outputs": [
    {
     "data": {
      "text/html": [
       "<div>\n",
       "<style scoped>\n",
       "    .dataframe tbody tr th:only-of-type {\n",
       "        vertical-align: middle;\n",
       "    }\n",
       "\n",
       "    .dataframe tbody tr th {\n",
       "        vertical-align: top;\n",
       "    }\n",
       "\n",
       "    .dataframe thead th {\n",
       "        text-align: right;\n",
       "    }\n",
       "</style>\n",
       "<table border=\"1\" class=\"dataframe\">\n",
       "  <thead>\n",
       "    <tr style=\"text-align: right;\">\n",
       "      <th></th>\n",
       "      <th>sex</th>\n",
       "      <th>birth_year</th>\n",
       "      <th>attitude_pj</th>\n",
       "      <th>goal_pj</th>\n",
       "    </tr>\n",
       "  </thead>\n",
       "  <tbody>\n",
       "    <tr>\n",
       "      <th>count</th>\n",
       "      <td>406.000000</td>\n",
       "      <td>406.000000</td>\n",
       "      <td>406.000000</td>\n",
       "      <td>406.000000</td>\n",
       "    </tr>\n",
       "    <tr>\n",
       "      <th>mean</th>\n",
       "      <td>0.300493</td>\n",
       "      <td>1999.770936</td>\n",
       "      <td>3.886700</td>\n",
       "      <td>1.884236</td>\n",
       "    </tr>\n",
       "    <tr>\n",
       "      <th>std</th>\n",
       "      <td>0.459038</td>\n",
       "      <td>3.818634</td>\n",
       "      <td>1.036123</td>\n",
       "      <td>0.356800</td>\n",
       "    </tr>\n",
       "    <tr>\n",
       "      <th>min</th>\n",
       "      <td>0.000000</td>\n",
       "      <td>1930.000000</td>\n",
       "      <td>1.000000</td>\n",
       "      <td>0.000000</td>\n",
       "    </tr>\n",
       "    <tr>\n",
       "      <th>25%</th>\n",
       "      <td>0.000000</td>\n",
       "      <td>1999.000000</td>\n",
       "      <td>3.000000</td>\n",
       "      <td>2.000000</td>\n",
       "    </tr>\n",
       "    <tr>\n",
       "      <th>50%</th>\n",
       "      <td>0.000000</td>\n",
       "      <td>2000.000000</td>\n",
       "      <td>4.000000</td>\n",
       "      <td>2.000000</td>\n",
       "    </tr>\n",
       "    <tr>\n",
       "      <th>75%</th>\n",
       "      <td>1.000000</td>\n",
       "      <td>2001.000000</td>\n",
       "      <td>5.000000</td>\n",
       "      <td>2.000000</td>\n",
       "    </tr>\n",
       "    <tr>\n",
       "      <th>max</th>\n",
       "      <td>1.000000</td>\n",
       "      <td>2004.000000</td>\n",
       "      <td>5.000000</td>\n",
       "      <td>2.000000</td>\n",
       "    </tr>\n",
       "  </tbody>\n",
       "</table>\n",
       "</div>"
      ],
      "text/plain": [
       "              sex   birth_year  attitude_pj     goal_pj\n",
       "count  406.000000   406.000000   406.000000  406.000000\n",
       "mean     0.300493  1999.770936     3.886700    1.884236\n",
       "std      0.459038     3.818634     1.036123    0.356800\n",
       "min      0.000000  1930.000000     1.000000    0.000000\n",
       "25%      0.000000  1999.000000     3.000000    2.000000\n",
       "50%      0.000000  2000.000000     4.000000    2.000000\n",
       "75%      1.000000  2001.000000     5.000000    2.000000\n",
       "max      1.000000  2004.000000     5.000000    2.000000"
      ]
     },
     "execution_count": 278,
     "metadata": {},
     "output_type": "execute_result"
    }
   ],
   "source": [
    "#data.drop(data[data.is_student == 'Ни школьник, ни студент'].index, inplace=True)\n",
    "\n",
    "#data[data.is_student == 'Ни школьник, ни студент']\n",
    "data.describe()"
   ]
  },
  {
   "cell_type": "code",
   "execution_count": 151,
   "metadata": {},
   "outputs": [
    {
     "data": {
      "text/plain": [
       "array([[<matplotlib.axes._subplots.AxesSubplot object at 0x7f9c83c00320>,\n",
       "        <matplotlib.axes._subplots.AxesSubplot object at 0x7f9c83c16908>],\n",
       "       [<matplotlib.axes._subplots.AxesSubplot object at 0x7f9c20b6ab70>,\n",
       "        <matplotlib.axes._subplots.AxesSubplot object at 0x7f9c20b8fdd8>]],\n",
       "      dtype=object)"
      ]
     },
     "execution_count": 151,
     "metadata": {},
     "output_type": "execute_result"
    },
    {
     "data": {
      "image/png": "[encoded data removed]",
      "text/plain": [
       "<Figure size 432x288 with 4 Axes>"
      ]
     },
     "metadata": {
      "needs_background": "light"
     },
     "output_type": "display_data"
    }
   ],
   "source": [
    "data.hist()"
   ]
  },
  {
   "cell_type": "code",
   "execution_count": 279,
   "metadata": {},
   "outputs": [
    {
     "data": {
      "text/plain": [
       "<matplotlib.axes._subplots.AxesSubplot at 0x7f9c4c09b0f0>"
      ]
     },
     "execution_count": 279,
     "metadata": {},
     "output_type": "execute_result"
    },
    {
     "data": {
      "image/png": "[encoded data removed]",
      "text/plain": [
       "<Figure size 432x288 with 1 Axes>"
      ]
     },
     "metadata": {
      "needs_background": "light"
     },
     "output_type": "display_data"
    }
   ],
   "source": [
    "# создадим зависимую переменную age - возраст опрошенных\n",
    "data['age'] = 2019 - data['birth_year']\n",
    "\n",
    "data.age.hist()"
   ]
  },
  {
   "cell_type": "code",
   "execution_count": null,
   "metadata": {},
   "outputs": [],
   "source": [
    "Независимые переменные: sex, birth_year, hometown, attitude_pj , wish_pj, similar_pj\n",
    "Зависимые переменные: orient_pj, goal_pj"
   ]
  }
 ],
 "metadata": {
  "colab": {
   "collapsed_sections": [],
   "name": "POS_HW4.ipynb",
   "provenance": [],
   "version": "0.3.2"
  },
  "kernelspec": {
   "display_name": "Python 3",
   "language": "python",
   "name": "python3"
  },
  "language_info": {
   "codemirror_mode": {
    "name": "ipython",
    "version": 3
   },
   "file_extension": ".py",
   "mimetype": "text/x-python",
   "name": "python",
   "nbconvert_exporter": "python",
   "pygments_lexer": "ipython3",
   "version": "3.7.1"
  }
 },
 "nbformat": 4,
 "nbformat_minor": 2
}
